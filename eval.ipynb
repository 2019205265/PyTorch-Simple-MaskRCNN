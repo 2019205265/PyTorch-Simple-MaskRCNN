{
 "cells": [
  {
   "cell_type": "code",
   "execution_count": 4,
   "metadata": {},
   "outputs": [
    {
     "name": "stdout",
     "output_type": "stream",
     "text": [
      "cuda: True\n",
      "use_cuda: True\n",
      "1 GPU(s) available\n",
      "\n",
      "device: cuda\n"
     ]
    }
   ],
   "source": [
    "import time\n",
    "import os\n",
    "import torch\n",
    "import pytorch_mask_rcnn as pmr\n",
    "    \n",
    "    \n",
    "# ------------------ adjustable parameters ---------------------\n",
    "\n",
    "use_cuda = True # choose to use GPU or not\n",
    "visualize = False # choose to visualize evaluation results or not\n",
    "val_num_samples = 100 # number of samples during test, betweem 1 to 1444\n",
    "ckpt_path = '../checkpoint.pth' # path where to save the checkpoint.pth\n",
    "data_dir = 'E:/PyTorch/data/VOC2012' # dataset directory\n",
    "\n",
    "# ------------------ adjustable parameters ---------------------\n",
    "\n",
    "classes = pmr.dataset.VOC_BBOX_LABEL_NAMES\n",
    "\n",
    "device = torch.device('cuda' if torch.cuda.is_available() and use_cuda else 'cpu')\n",
    "print('cuda: {}\\nuse_cuda: {}\\n{} GPU(s) available'.format(torch.cuda.is_available(), use_cuda, torch.cuda.device_count()))\n",
    "print('\\ndevice: {}'.format(device))\n",
    "\n",
    "valset = pmr.VOCDataset(data_dir, 'val', False, device=device) # len=1444\n",
    "indices = torch.randperm(len(valset)).tolist()\n",
    "valset = torch.utils.data.Subset(valset, indices[:val_num_samples])\n",
    "\n",
    "model = pmr.maskrcnn_resnet50(True, 21).to(device)\n",
    "\n",
    "if os.path.exists(ckpt_path):\n",
    "    checkpoint = torch.load(ckpt_path)\n",
    "    model.load_state_dict(checkpoint['model_state_dict'])\n",
    "    \n",
    "    del checkpoint\n",
    "    torch.cuda.empty_cache()"
   ]
  },
  {
   "cell_type": "code",
   "execution_count": 5,
   "metadata": {
    "scrolled": true
   },
   "outputs": [
    {
     "name": "stdout",
     "output_type": "stream",
     "text": [
      "\n",
      "total time: 350.78 s\n"
     ]
    }
   ],
   "source": [
    "since = time.time()\n",
    "\n",
    "# ------------------ test ---------------------\n",
    "# remove below '#' to activate ap_getter \n",
    "\n",
    "#ap_getter = pmr.APGetter(20, device)\n",
    "model.eval()\n",
    "for image in valset:\n",
    "    with torch.no_grad():\n",
    "        result = model(image)\n",
    "        \n",
    "    #ap_getter.collect_data(result, target)\n",
    "\n",
    "    if visualize:\n",
    "        print('  '.join(classes[l] for l in result['labels']))\n",
    "        print('  '.join('{:.2f}'.format(p) for p in result['scores']))\n",
    "        pmr.show(image, result)\n",
    "        \n",
    "#ap_getter.compute_ap()\n",
    "#print('AP on iou 0.50:0.95')\n",
    "#print('  '.join(str(round(i * 100, 1)) for i in ap_getter.AP_series))\n",
    "#print('mAP: {:.1f}'.format(ap_getter.mAP * 100))\n",
    "\n",
    "# ------------------ test ---------------------\n",
    "\n",
    "print('\\ntotal time: {:.2f} s'.format(time.time() - since))"
   ]
  }
 ],
 "metadata": {
  "kernelspec": {
   "display_name": "Python [conda env:pytorch]",
   "language": "python",
   "name": "conda-env-pytorch-py"
  },
  "language_info": {
   "codemirror_mode": {
    "name": "ipython",
    "version": 3
   },
   "file_extension": ".py",
   "mimetype": "text/x-python",
   "name": "python",
   "nbconvert_exporter": "python",
   "pygments_lexer": "ipython3",
   "version": "3.7.6"
  }
 },
 "nbformat": 4,
 "nbformat_minor": 2
}

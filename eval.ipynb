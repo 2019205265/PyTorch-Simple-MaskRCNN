{
 "cells": [
  {
   "cell_type": "code",
   "execution_count": 3,
   "metadata": {},
   "outputs": [
    {
     "name": "stdout",
     "output_type": "stream",
     "text": [
      "cuda: True\n",
      "use_cuda: True\n",
      "1 GPU(s) available\n",
      "\n",
      "device: cuda\n"
     ]
    }
   ],
   "source": [
    "import time\n",
    "import os\n",
    "import torch\n",
    "import pytorch_mask_rcnn as pmr\n",
    "\n",
    "\n",
    "# ------------------ adjustable parameters ---------------------\n",
    "\n",
    "use_cuda = True # choose to use GPU or not\n",
    "visualize = False # choose to visualize evaluation results or not\n",
    "val_num_samples = 100 # number of samples during test\n",
    "dataset = 'coco' # coco or voc\n",
    "data_dir = 'E:/PyTorch/data/coco2017' # dataset directory\n",
    "num_classes = 91 # 91 for coco, 21 for voc\n",
    "ckpt_path = '../checkpoint_coco.pth' # path where to save the checkpoint.pth\n",
    "\n",
    "# ------------------ adjustable parameters ---------------------\n",
    "\n",
    "device = torch.device('cuda' if torch.cuda.is_available() and use_cuda else 'cpu')\n",
    "print('cuda: {}\\nuse_cuda: {}\\n{} GPU(s) available'.format(torch.cuda.is_available(), use_cuda, torch.cuda.device_count()))\n",
    "print('\\ndevice: {}'.format(device))\n",
    "\n",
    "valset = pmr.datasets(dataset, data_dir, 'val', True, device=device)\n",
    "classes = valset.classes\n",
    "coco = valset.coco if hasattr(valset, 'coco') else None\n",
    "\n",
    "indices = torch.randperm(len(valset)).tolist()\n",
    "valset = torch.utils.data.Subset(valset, indices[:val_num_samples])\n",
    "\n",
    "model = pmr.maskrcnn_resnet50(True, num_classes).to(device)\n",
    "\n",
    "if os.path.exists(ckpt_path):\n",
    "    checkpoint = torch.load(ckpt_path)\n",
    "    model.load_state_dict(checkpoint['model'])\n",
    "    \n",
    "    del checkpoint\n",
    "    torch.cuda.empty_cache()"
   ]
  },
  {
   "cell_type": "code",
   "execution_count": 4,
   "metadata": {
    "scrolled": false
   },
   "outputs": [
    {
     "name": "stdout",
     "output_type": "stream",
     "text": [
      "IoU metric: bbox\n",
      " Average Precision  (AP) @[ IoU=0.50:0.95 | area=   all | maxDets=100 ] = 0.310\n",
      " Average Precision  (AP) @[ IoU=0.50      | area=   all | maxDets=100 ] = 0.472\n",
      " Average Precision  (AP) @[ IoU=0.75      | area=   all | maxDets=100 ] = 0.366\n",
      " Average Precision  (AP) @[ IoU=0.50:0.95 | area= small | maxDets=100 ] = 0.204\n",
      " Average Precision  (AP) @[ IoU=0.50:0.95 | area=medium | maxDets=100 ] = 0.275\n",
      " Average Precision  (AP) @[ IoU=0.50:0.95 | area= large | maxDets=100 ] = 0.317\n",
      " Average Recall     (AR) @[ IoU=0.50:0.95 | area=   all | maxDets=  1 ] = 0.250\n",
      " Average Recall     (AR) @[ IoU=0.50:0.95 | area=   all | maxDets= 10 ] = 0.318\n",
      " Average Recall     (AR) @[ IoU=0.50:0.95 | area=   all | maxDets=100 ] = 0.318\n",
      " Average Recall     (AR) @[ IoU=0.50:0.95 | area= small | maxDets=100 ] = 0.213\n",
      " Average Recall     (AR) @[ IoU=0.50:0.95 | area=medium | maxDets=100 ] = 0.282\n",
      " Average Recall     (AR) @[ IoU=0.50:0.95 | area= large | maxDets=100 ] = 0.335\n",
      "IoU metric: segm\n",
      " Average Precision  (AP) @[ IoU=0.50:0.95 | area=   all | maxDets=100 ] = 0.272\n",
      " Average Precision  (AP) @[ IoU=0.50      | area=   all | maxDets=100 ] = 0.455\n",
      " Average Precision  (AP) @[ IoU=0.75      | area=   all | maxDets=100 ] = 0.278\n",
      " Average Precision  (AP) @[ IoU=0.50:0.95 | area= small | maxDets=100 ] = 0.193\n",
      " Average Precision  (AP) @[ IoU=0.50:0.95 | area=medium | maxDets=100 ] = 0.243\n",
      " Average Precision  (AP) @[ IoU=0.50:0.95 | area= large | maxDets=100 ] = 0.283\n",
      " Average Recall     (AR) @[ IoU=0.50:0.95 | area=   all | maxDets=  1 ] = 0.227\n",
      " Average Recall     (AR) @[ IoU=0.50:0.95 | area=   all | maxDets= 10 ] = 0.278\n",
      " Average Recall     (AR) @[ IoU=0.50:0.95 | area=   all | maxDets=100 ] = 0.278\n",
      " Average Recall     (AR) @[ IoU=0.50:0.95 | area= small | maxDets=100 ] = 0.202\n",
      " Average Recall     (AR) @[ IoU=0.50:0.95 | area=medium | maxDets=100 ] = 0.252\n",
      " Average Recall     (AR) @[ IoU=0.50:0.95 | area= large | maxDets=100 ] = 0.294\n",
      "\n",
      "total time: 61.14 s\n"
     ]
    }
   ],
   "source": [
    "since = time.time()\n",
    "\n",
    "# ------------------ test ---------------------\n",
    "\n",
    "if coco:\n",
    "    iou_types = ['bbox', 'segm']\n",
    "    coco_evaluator = pmr.CocoEvaluator(coco, iou_types)\n",
    "\n",
    "model.eval()\n",
    "for (image, target) in valset:\n",
    "    with torch.no_grad():\n",
    "        result = model(image)\n",
    "\n",
    "    if coco:\n",
    "        result = {k: v.cpu() for k, v in result.items()}\n",
    "        res = {target['image_id'].item(): result}\n",
    "        coco_evaluator.update(res)\n",
    "\n",
    "    if visualize:\n",
    "        #print('  '.join(classes[l.item()] for l in result['labels']))\n",
    "        #print('  '.join('{:.2f}'.format(p) for p in result['scores']))\n",
    "        pmr.show(image, result, classes)\n",
    "\n",
    "if coco:\n",
    "    coco_evaluator.synchronize_between_processes()\n",
    "    coco_evaluator.accumulate()\n",
    "    coco_evaluator.summarize()\n",
    "\n",
    "# ------------------ test ---------------------\n",
    "\n",
    "print('\\ntotal time: {:.2f} s'.format(time.time() - since))"
   ]
  }
 ],
 "metadata": {
  "kernelspec": {
   "display_name": "Python [conda env:pytorch]",
   "language": "python",
   "name": "conda-env-pytorch-py"
  },
  "language_info": {
   "codemirror_mode": {
    "name": "ipython",
    "version": 3
   },
   "file_extension": ".py",
   "mimetype": "text/x-python",
   "name": "python",
   "nbconvert_exporter": "python",
   "pygments_lexer": "ipython3",
   "version": "3.7.6"
  }
 },
 "nbformat": 4,
 "nbformat_minor": 2
}

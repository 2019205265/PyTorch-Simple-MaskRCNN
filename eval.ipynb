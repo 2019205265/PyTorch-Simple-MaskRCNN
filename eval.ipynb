{
 "cells": [
  {
   "cell_type": "code",
   "execution_count": null,
   "metadata": {},
   "outputs": [],
   "source": [
    "import time\n",
    "import os\n",
    "import torch\n",
    "import pytorch_mask_rcnn as pmr\n",
    "    \n",
    "# ------------------ adjustable parameters ---------------------\n",
    "use_cuda = True                               # choose to use GPU or not\n",
    "visualize_eval = True                         # choose to visualize evaluation results or not\n",
    "val_num_samples = 5                           # number of samples during test, betweem 1 to 1444\n",
    "ckpt_path = '../checkpoint.pth'               # path where to save the checkpoint.pth\n",
    "data_dir = 'E:/PyTorch/data/VOC2012'          # dataset directory\n",
    "# ------------------ adjustable parameters ---------------------\n",
    "classes = pmr.dataset.VOC_BBOX_LABEL_NAMES\n",
    "\n",
    "device = torch.device('cuda' if torch.cuda.is_available() and use_cuda else 'cpu')\n",
    "print('cuda: {}\\nuse_cuda: {}\\n{} GPU(s) available'.format(torch.cuda.is_available(), use_cuda, torch.cuda.device_count()))\n",
    "print('\\ndevice: {}'.format(device))\n",
    "\n",
    "valset = pmr.VOCDataset(data_dir, 'train', False, device=device) # len=1444\n",
    "indices = torch.randperm(len(valset)).tolist()\n",
    "valset = torch.utils.data.Subset(valset, indices[:val_num_samples])\n",
    "\n",
    "model = pmr.maskrcnn_resnet50(True, 21).to(device)"
   ]
  },
  {
   "cell_type": "code",
   "execution_count": null,
   "metadata": {},
   "outputs": [],
   "source": [
    "if os.path.exists(ckpt_path):\n",
    "    checkpoint = torch.load(ckpt_path)\n",
    "    model.load_state_dict(checkpoint['model_state_dict'])\n",
    "    \n",
    "    del checkpoint\n",
    "    torch.cuda.empty_cache()\n",
    "\n",
    "since = time.time()\n",
    "# ------------------val---------------------\n",
    "model.eval()\n",
    "for image in valset:\n",
    "    with torch.no_grad():\n",
    "        result = model(image)\n",
    "        \n",
    "    if visualize_eval:\n",
    "        print('  '.join(classes[l] for l in result['labels']))\n",
    "        print('  '.join('{:.2f}'.format(p) for p in result['scores']))\n",
    "        pmr.show(image, result)\n",
    "# ------------------val---------------------\n",
    "print('total time: {:.2f} s'.format(time.time() - since))"
   ]
  }
 ],
 "metadata": {
  "kernelspec": {
   "display_name": "Python [conda env:pytorch]",
   "language": "python",
   "name": "conda-env-pytorch-py"
  },
  "language_info": {
   "codemirror_mode": {
    "name": "ipython",
    "version": 3
   },
   "file_extension": ".py",
   "mimetype": "text/x-python",
   "name": "python",
   "nbconvert_exporter": "python",
   "pygments_lexer": "ipython3",
   "version": "3.7.6"
  }
 },
 "nbformat": 4,
 "nbformat_minor": 2
}

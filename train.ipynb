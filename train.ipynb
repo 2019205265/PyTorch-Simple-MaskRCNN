{
 "cells": [
  {
   "cell_type": "code",
   "execution_count": 1,
   "metadata": {},
   "outputs": [
    {
     "name": "stdout",
     "output_type": "stream",
     "text": [
      "cuda: True\n",
      "use_cuda: True\n",
      "1 GPU(s) available\n",
      "\n",
      "device: cuda\n"
     ]
    }
   ],
   "source": [
    "import time\n",
    "import os\n",
    "import torch\n",
    "import pytorch_mask_rcnn as pmr\n",
    "    \n",
    "    \n",
    "# ------------------ adjustable parameters ---------------------\n",
    "\n",
    "use_cuda = True # choose to use GPU or not\n",
    "epochs = 1 # total epochs during this train\n",
    "train_num_samples = 100 # number of samples per epoch\n",
    "lr = 0.001 # learning rate\n",
    "dataset = 'coco' # coco or voc\n",
    "data_dir = 'E:/PyTorch/data/coco2017' # dataset directory\n",
    "num_classes = 91  # 91 for coco, 21 for voc\n",
    "ckpt_path = '../checkpoint_coco.pth' # path where to save the checkpoint.pth\n",
    "\n",
    "# ------------------ adjustable parameters ---------------------\n",
    "\n",
    "device = torch.device('cuda' if torch.cuda.is_available() and use_cuda else 'cpu')\n",
    "print('cuda: {}\\nuse_cuda: {}\\n{} GPU(s) available'.format(torch.cuda.is_available(), use_cuda, torch.cuda.device_count()))\n",
    "print('\\ndevice: {}'.format(device))\n",
    "\n",
    "trainset = pmr.datasets(dataset, data_dir, 'train', train=True, device=device)\n",
    "indices = torch.randperm(len(trainset)).tolist()\n",
    "trainset = torch.utils.data.Subset(trainset, indices[:train_num_samples])\n",
    "\n",
    "torch.manual_seed(3)\n",
    "model = pmr.maskrcnn_resnet50(True, num_classes).to(device)\n",
    "params = [p for p in model.parameters() if p.requires_grad]\n",
    "optimizer = torch.optim.SGD(params, lr=lr, momentum=0.9, weight_decay=0.0005)"
   ]
  },
  {
   "cell_type": "code",
   "execution_count": 2,
   "metadata": {},
   "outputs": [
    {
     "name": "stdout",
     "output_type": "stream",
     "text": [
      "already trained: 0 epochs, 0 batches\n",
      "\n",
      "0 0.695 0.039 0.005 0.0 0.153\n",
      "total time of this train: 54.30 s\n",
      "already trained: 1 epochs, 100 batches\n"
     ]
    }
   ],
   "source": [
    "if os.path.exists(ckpt_path):\n",
    "    checkpoint = torch.load(ckpt_path)\n",
    "    model.load_state_dict(checkpoint['model_state_dict'])\n",
    "    optimizer.load_state_dict(checkpoint['optimizer_state_dict'])\n",
    "    \n",
    "    del checkpoint['model_state_dict']\n",
    "    del checkpoint['optimizer_state_dict']\n",
    "    torch.cuda.empty_cache()\n",
    "else:\n",
    "    checkpoint = dict(epochs=0, num_batches=0)\n",
    "    \n",
    "epoch = checkpoint['epochs']\n",
    "print('already trained: {} epochs, {} batches'.format(epoch, checkpoint['num_batches']))\n",
    "\n",
    "since = time.time()\n",
    "\n",
    "# ------------------train---------------------\n",
    "\n",
    "model.train()\n",
    "for _ in range(epochs):\n",
    "    print()\n",
    "    for i, data in enumerate(trainset):\n",
    "        optimizer.zero_grad()\n",
    "        losses = model(*data)\n",
    "        loss = sum(losses.values())\n",
    "        loss.backward()\n",
    "        optimizer.step()\n",
    "        \n",
    "        if i % 100 == 0:\n",
    "            print(i, ' '.join(str(round(l.item(), 3)) for l in losses.values()))\n",
    "    \n",
    "    epoch += 1\n",
    "    if epoch % 7 == 0:\n",
    "        for pg in optimizer.param_groups:\n",
    "            pg['lr'] = lr * 0.9 ** (epoch // 7)\n",
    "            \n",
    "# ------------------train---------------------\n",
    "\n",
    "print('total time of this train: {:.2f} s'.format(time.time() - since))\n",
    "\n",
    "checkpoint['model_state_dict'] = model.state_dict()\n",
    "checkpoint['optimizer_state_dict']  = optimizer.state_dict()\n",
    "checkpoint['epochs'] = epoch\n",
    "checkpoint['num_batches'] += epochs * len(trainset)\n",
    "torch.save(checkpoint, ckpt_path)\n",
    "\n",
    "num_batches = checkpoint['num_batches']\n",
    "del checkpoint\n",
    "torch.cuda.empty_cache()\n",
    "\n",
    "print('already trained: {} epochs, {} batches'.format(epoch, num_batches))"
   ]
  },
  {
   "cell_type": "code",
   "execution_count": null,
   "metadata": {},
   "outputs": [],
   "source": [
    "\n",
    "    "
   ]
  }
 ],
 "metadata": {
  "kernelspec": {
   "display_name": "Python [conda env:pytorch]",
   "language": "python",
   "name": "conda-env-pytorch-py"
  },
  "language_info": {
   "codemirror_mode": {
    "name": "ipython",
    "version": 3
   },
   "file_extension": ".py",
   "mimetype": "text/x-python",
   "name": "python",
   "nbconvert_exporter": "python",
   "pygments_lexer": "ipython3",
   "version": "3.7.6"
  }
 },
 "nbformat": 4,
 "nbformat_minor": 4
}

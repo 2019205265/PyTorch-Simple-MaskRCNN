{
 "cells": [
  {
   "cell_type": "code",
   "execution_count": 1,
   "metadata": {
    "scrolled": false
   },
   "outputs": [
    {
     "name": "stdout",
     "output_type": "stream",
     "text": [
      "cuda: True\n",
      "use_cuda: True\n",
      "1 GPU(s) available\n",
      "\n",
      "device: cuda\n"
     ]
    }
   ],
   "source": [
    "import time\n",
    "import os\n",
    "\n",
    "import torch\n",
    "\n",
    "import pytorch_mask_rcnn as pmr\n",
    "    \n",
    "# ------------------ adjustable parameters ---------------------\n",
    "use_cuda = True                              # choose to use GPU or not\n",
    "train_num_samples = 1463                     # number of samples during train, betweem 1 to 1463\n",
    "ckpt_path = '../checkpoint.pth'               # path where to save the checkpoint.pth\n",
    "data_dir = 'E:/PyTorch/data/VOC2012'         # dataset directory\n",
    "# ------------------ adjustable parameters ---------------------\n",
    "\n",
    "device = torch.device('cuda' if torch.cuda.is_available() and use_cuda else 'cpu')\n",
    "print('cuda: {}\\nuse_cuda: {}\\n{} GPU(s) available'.format(torch.cuda.is_available(), use_cuda, torch.cuda.device_count()))\n",
    "print('\\ndevice: {}'.format(device))\n",
    "\n",
    "trainset = pmr.VOCDataset(data_dir, 'train', True, device=device)\n",
    "indices = torch.randperm(len(trainset)).tolist()\n",
    "trainset = torch.utils.data.Subset(trainset, indices[:train_num_samples])\n",
    "\n",
    "torch.manual_seed(3)\n",
    "model = pmr.maskrcnn_resnet50(False, 21).to(device)\n",
    "params = [p for p in model.parameters() if p.requires_grad]\n",
    "optimizer = torch.optim.SGD(params, lr=0.001, momentum=0.9, weight_decay=0.0005)"
   ]
  },
  {
   "cell_type": "code",
   "execution_count": 2,
   "metadata": {
    "scrolled": false
   },
   "outputs": [
    {
     "name": "stdout",
     "output_type": "stream",
     "text": [
      "already trained: 0\n",
      "total time: 764.59 s\n",
      "\n",
      "already trained: 1463\n"
     ]
    }
   ],
   "source": [
    "if os.path.exists(ckpt_path):\n",
    "    checkpoint = torch.load(ckpt_path)\n",
    "    model.load_state_dict(checkpoint['model_state_dict'])\n",
    "    optimizer.load_state_dict(checkpoint['optimizer_state_dict'])\n",
    "    \n",
    "    del checkpoint['model_state_dict']\n",
    "    del checkpoint['optimizer_state_dict']\n",
    "    torch.cuda.empty_cache()\n",
    "else:\n",
    "    checkpoint = dict(num_batches=0)\n",
    "print('already trained: {}'.format(checkpoint['num_batches']))\n",
    "\n",
    "since = time.time()\n",
    "# ------------------train---------------------\n",
    "model.train()\n",
    "for i, data in enumerate(trainset):\n",
    "    optimizer.zero_grad()\n",
    "    losses = model(*data)\n",
    "    if i % 100 == 0:\n",
    "        print(' '.join(str(round(l.item(), 3)) for l in losses.values()))\n",
    "    loss = sum(losses.values())\n",
    "    loss.backward()\n",
    "    optimizer.step()\n",
    "# ------------------train---------------------\n",
    "print('total time: {:.2f} s'.format(time.time() - since))\n",
    "\n",
    "checkpoint['model_state_dict'] = model.state_dict()\n",
    "checkpoint['optimizer_state_dict'] = optimizer.state_dict()\n",
    "checkpoint['num_batches'] += i + 1\n",
    "torch.save(checkpoint, ckpt_path)\n",
    "\n",
    "num_batches = checkpoint['num_batches']\n",
    "del checkpoint\n",
    "torch.cuda.empty_cache()\n",
    "\n",
    "print('\\nalready trained: {}'.format(num_batches))"
   ]
  },
  {
   "cell_type": "code",
   "execution_count": null,
   "metadata": {},
   "outputs": [],
   "source": []
  }
 ],
 "metadata": {
  "kernelspec": {
   "display_name": "Python [conda env:pytorch]",
   "language": "python",
   "name": "conda-env-pytorch-py"
  },
  "language_info": {
   "codemirror_mode": {
    "name": "ipython",
    "version": 3
   },
   "file_extension": ".py",
   "mimetype": "text/x-python",
   "name": "python",
   "nbconvert_exporter": "python",
   "pygments_lexer": "ipython3",
   "version": "3.7.6"
  }
 },
 "nbformat": 4,
 "nbformat_minor": 4
}

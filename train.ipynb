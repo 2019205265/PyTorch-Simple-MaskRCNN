{
 "cells": [
  {
   "cell_type": "code",
   "execution_count": 2,
   "metadata": {
    "scrolled": true
   },
   "outputs": [
    {
     "name": "stdout",
     "output_type": "stream",
     "text": [
      "cuda: True\n",
      "use_cuda: True\n",
      "1 GPU(s) available\n",
      "\n",
      "device: cuda\n"
     ]
    }
   ],
   "source": [
    "import time\n",
    "import os\n",
    "import torch\n",
    "import pytorch_mask_rcnn as pmr\n",
    "    \n",
    "    \n",
    "# ------------------ adjustable parameters ---------------------\n",
    "\n",
    "use_cuda = True # choose to use GPU or not\n",
    "epochs = 1 # total epochs during this train\n",
    "train_num_samples = 1500 # number of samples per epoch\n",
    "lr = 0.001 # learning rate\n",
    "dataset = 'coco' # coco or voc\n",
    "data_dir = 'E:/PyTorch/data/coco2017' # dataset directory\n",
    "num_classes = 91  # 91 for coco, 21 for voc\n",
    "ckpt_path = '../checkpoint_coco.pth' # path where to save the checkpoint.pth\n",
    "\n",
    "# ------------------ adjustable parameters ---------------------\n",
    "\n",
    "device = torch.device('cuda' if torch.cuda.is_available() and use_cuda else 'cpu')\n",
    "print('cuda: {}\\nuse_cuda: {}\\n{} GPU(s) available'.format(torch.cuda.is_available(), use_cuda, torch.cuda.device_count()))\n",
    "print('\\ndevice: {}'.format(device))\n",
    "\n",
    "trainset = pmr.datasets(dataset, data_dir, 'train', train=True, device=device)\n",
    "indices = torch.randperm(len(trainset)).tolist()\n",
    "trainset = torch.utils.data.Subset(trainset, indices[:train_num_samples])\n",
    "\n",
    "torch.manual_seed(3)\n",
    "model = pmr.maskrcnn_resnet50(True, num_classes).to(device)\n",
    "params = [p for p in model.parameters() if p.requires_grad]\n",
    "optimizer = torch.optim.SGD(params, lr=lr, momentum=0.9, weight_decay=0.0001)\n",
    "lr_scheduler = torch.optim.lr_scheduler.StepLR(optimizer, step_size=7, gamma=0.1)"
   ]
  },
  {
   "cell_type": "code",
   "execution_count": 3,
   "metadata": {},
   "outputs": [
    {
     "name": "stdout",
     "output_type": "stream",
     "text": [
      "already trained: 0 epochs, 0 batches\n",
      "epoch: 1\n",
      "0 0.699 0.032 0.022 0.002 0.228\n",
      "100 0.227 0.133 0.071 0.102 0.172\n",
      "200 0.415 0.348 0.133 0.059 0.289\n",
      "300 0.131 0.051 0.051 0.018 0.278\n",
      "400 0.01 0.019 0.029 0.005 0.129\n",
      "500 0.152 0.197 0.12 0.043 0.533\n",
      "600 0.096 0.066 0.125 0.063 0.198\n",
      "700 0.035 0.003 0.06 0.031 0.326\n",
      "800 0.033 0.008 0.03 0.01 0.105\n",
      "900 0.32 0.048 0.197 0.007 0.181\n",
      "1000 0.057 0.007 0.05 0.031 0.385\n",
      "1100 0.242 0.087 0.108 0.031 0.166\n",
      "1200 0.112 0.237 0.031 0.016 0.2\n",
      "1300 0.189 0.989 0.14 0.031 0.409\n",
      "1400 0.027 0.008 0.013 0.009 0.768\n",
      "total time of this train: 835.16 s\n",
      "already trained: 1 epochs, 1500 batches\n"
     ]
    }
   ],
   "source": [
    "if os.path.exists(ckpt_path):\n",
    "    checkpoint = torch.load(ckpt_path, map_location=device)\n",
    "    model.load_state_dict(checkpoint['model'])\n",
    "    optimizer.load_state_dict(checkpoint['optimizer'])\n",
    "    lr_scheduler.load_state_dict(checkpoint['lr_scheduler'])\n",
    "    \n",
    "    del checkpoint['model']\n",
    "    del checkpoint['optimizer']\n",
    "    del checkpoint['lr_scheduler']\n",
    "    torch.cuda.empty_cache()\n",
    "else:\n",
    "    checkpoint = dict(epochs=0, num_batches=0)\n",
    "    \n",
    "start_epoch = checkpoint['epochs']\n",
    "print('already trained: {} epochs, {} batches'.\n",
    "      format(start_epoch, checkpoint['num_batches']))\n",
    "\n",
    "since = time.time()\n",
    "\n",
    "# ------------------train---------------------\n",
    "\n",
    "model.train()\n",
    "for epoch in range(start_epoch, start_epoch + epochs):\n",
    "    print('epoch: {}'.format(epoch + 1))\n",
    "    for i, data in enumerate(trainset):\n",
    "        optimizer.zero_grad()\n",
    "        losses = model(*data)\n",
    "        loss = sum(losses.values())\n",
    "        loss.backward()\n",
    "        optimizer.step()\n",
    "        \n",
    "        if i % 100 == 0:\n",
    "            print(i, ' '.join(str(round(l.item(), 3)) for l in losses.values()))\n",
    "    \n",
    "    lr_scheduler.step()\n",
    "            \n",
    "# ------------------train---------------------\n",
    "\n",
    "print('total time of this train: {:.2f} s'.format(time.time() - since))\n",
    "\n",
    "checkpoint['model'] = model.state_dict()\n",
    "checkpoint['optimizer']  = optimizer.state_dict()\n",
    "checkpoint['lr_scheduler']  = lr_scheduler.state_dict()\n",
    "checkpoint['epochs'] += epochs\n",
    "checkpoint['num_batches'] += epochs * len(trainset)\n",
    "torch.save(checkpoint, ckpt_path)\n",
    "\n",
    "num_batches = checkpoint['num_batches']\n",
    "del checkpoint\n",
    "torch.cuda.empty_cache()\n",
    "\n",
    "print('already trained: {} epochs, {} batches'.format(epoch + 1, num_batches))"
   ]
  },
  {
   "cell_type": "code",
   "execution_count": null,
   "metadata": {},
   "outputs": [],
   "source": [
    "\n",
    "    "
   ]
  }
 ],
 "metadata": {
  "kernelspec": {
   "display_name": "Python [conda env:pytorch]",
   "language": "python",
   "name": "conda-env-pytorch-py"
  },
  "language_info": {
   "codemirror_mode": {
    "name": "ipython",
    "version": 3
   },
   "file_extension": ".py",
   "mimetype": "text/x-python",
   "name": "python",
   "nbconvert_exporter": "python",
   "pygments_lexer": "ipython3",
   "version": "3.7.6"
  }
 },
 "nbformat": 4,
 "nbformat_minor": 4
}

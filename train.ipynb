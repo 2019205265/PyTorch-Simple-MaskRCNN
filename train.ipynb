{
 "cells": [
  {
   "cell_type": "code",
   "execution_count": 1,
   "metadata": {
    "scrolled": false
   },
   "outputs": [
    {
     "name": "stdout",
     "output_type": "stream",
     "text": [
      "cuda: True\n",
      "use_cuda: True\n",
      "1 GPU(s) available\n",
      "\n",
      "device: cuda\n"
     ]
    }
   ],
   "source": [
    "import time\n",
    "import os\n",
    "\n",
    "import torch\n",
    "\n",
    "import pytorch_mask_rcnn as pmr\n",
    "\n",
    "\n",
    "use_cuda = True\n",
    "train_num_samples = 30\n",
    "val_num_samples = 20\n",
    "ckpt_path = '../checkpoint.pth'\n",
    "data_root = 'E:/PyTorch/data/VOC2012'\n",
    "classes = (\n",
    "    'aeroplane', 'bicycle', 'bird', 'boat', 'bottle',\n",
    "    'bus', 'car', 'cat', 'chair', 'cow', 'diningtable',\n",
    "    'dog', 'horse', 'motorbike', 'person', 'pottedplant',\n",
    "    'sheep', 'sofa', 'train', 'tvmonitor') # 20 classes\n",
    "\n",
    "device = torch.device('cuda' if torch.cuda.is_available() and use_cuda else 'cpu')\n",
    "print('cuda: {}\\nuse_cuda: {}\\n{} GPU(s) available'.format(torch.cuda.is_available(), use_cuda, torch.cuda.device_count()))\n",
    "print('\\ndevice: {}'.format(device))\n",
    "\n",
    "trainset = pmr.VOCDataset(data_root, 'train', True, device=device) # len=1463\n",
    "valset = pmr.VOCDataset(data_root, 'val', False, device=device) # len=1444\n",
    "\n",
    "indices = torch.randperm(len(trainset)).tolist()\n",
    "trainset = torch.utils.data.Subset(trainset, indices[:train_num_samples])\n",
    "indices = torch.randperm(len(valset)).tolist()\n",
    "valset = torch.utils.data.Subset(valset, indices[:val_num_samples])\n",
    "\n",
    "torch.manual_seed(3)\n",
    "model = pmr.maskrcnn_resnet50(False, len(classes) + 1).to(device)\n",
    "params = [p for p in model.parameters() if p.requires_grad]\n",
    "optimizer = torch.optim.SGD(params, lr=0.001, momentum=0.9, weight_decay=0.0005)"
   ]
  },
  {
   "cell_type": "code",
   "execution_count": 2,
   "metadata": {
    "scrolled": false
   },
   "outputs": [
    {
     "name": "stdout",
     "output_type": "stream",
     "text": [
      "already trained: 60\n",
      "total time: 15.79 s\n",
      "\n",
      "already trained: 90\n"
     ]
    }
   ],
   "source": [
    "if os.path.exists(ckpt_path):\n",
    "    checkpoint = torch.load(ckpt_path)\n",
    "    model.load_state_dict(checkpoint['model_state_dict'])\n",
    "    optimizer.load_state_dict(checkpoint['optimizer_state_dict'])\n",
    "    \n",
    "    del checkpoint['model_state_dict']\n",
    "    del checkpoint['optimizer_state_dict']\n",
    "    torch.cuda.empty_cache()\n",
    "else:\n",
    "    checkpoint = dict(num_batches=0)\n",
    "print('already trained: {}'.format(checkpoint['num_batches']))\n",
    "\n",
    "since = time.time()\n",
    "# ------------------train---------------------\n",
    "model.train()\n",
    "for i, data in enumerate(trainset):\n",
    "    optimizer.zero_grad()\n",
    "    losses = model(*data)\n",
    "    #print(' '.join(str(round(l.item(), 3)) for l in losses.values()))\n",
    "    loss = sum(losses.values())\n",
    "    loss.backward()\n",
    "    optimizer.step()\n",
    "# ------------------train---------------------\n",
    "print('total time: {:.2f} s'.format(time.time() - since))\n",
    "\n",
    "checkpoint['model_state_dict'] = model.state_dict()\n",
    "checkpoint['optimizer_state_dict'] = optimizer.state_dict()\n",
    "checkpoint['num_batches'] += i + 1\n",
    "torch.save(checkpoint, ckpt_path)\n",
    "\n",
    "num_batches = checkpoint['num_batches']\n",
    "del checkpoint\n",
    "torch.cuda.empty_cache()\n",
    "\n",
    "print('\\nalready trained: {}'.format(num_batches))"
   ]
  },
  {
   "cell_type": "code",
   "execution_count": 3,
   "metadata": {},
   "outputs": [
    {
     "name": "stdout",
     "output_type": "stream",
     "text": [
      "total time: 5.13 s\n"
     ]
    }
   ],
   "source": [
    "since = time.time()\n",
    "# ------------------val---------------------\n",
    "model.eval()\n",
    "for image in valset:\n",
    "    with torch.no_grad():\n",
    "        results = model(image)\n",
    "        \n",
    "    if False:\n",
    "        print(results['boxes'])\n",
    "        print('  '.join(classes[l] for l in results['labels'].tolist()))\n",
    "        print('  '.join('{:.2f}'.format(p) for p in results['scores'].tolist()))\n",
    "        pmr.show(image, results['boxes'])\n",
    "# ------------------val---------------------\n",
    "print('total time: {:.2f} s'.format(time.time() - since))"
   ]
  },
  {
   "cell_type": "code",
   "execution_count": null,
   "metadata": {},
   "outputs": [],
   "source": []
  }
 ],
 "metadata": {
  "kernelspec": {
   "display_name": "Python [conda env:pytorch]",
   "language": "python",
   "name": "conda-env-pytorch-py"
  },
  "language_info": {
   "codemirror_mode": {
    "name": "ipython",
    "version": 3
   },
   "file_extension": ".py",
   "mimetype": "text/x-python",
   "name": "python",
   "nbconvert_exporter": "python",
   "pygments_lexer": "ipython3",
   "version": "3.7.6"
  }
 },
 "nbformat": 4,
 "nbformat_minor": 4
}
